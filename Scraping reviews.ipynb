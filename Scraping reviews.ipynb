{
 "cells": [
  {
   "cell_type": "code",
   "execution_count": 2,
   "metadata": {},
   "outputs": [],
   "source": [
    "from selenium import webdriver\n",
    "from time import sleep\n",
    "import time\n",
    "from bs4 import BeautifulSoup\n",
    "import pandas as pd\n",
    "from selenium.webdriver.common.keys import Keys"
   ]
  },
  {
   "cell_type": "code",
   "execution_count": 3,
   "metadata": {},
   "outputs": [],
   "source": [
    "# driver = webdriver.Firefox()\n",
    "# try:\n",
    "#     driver.find_element_by_class_name('a-button-input').click\n",
    "# except:\n",
    "#     pass\n",
    "\n",
    "# product_url = input(\"provide the url\")\n",
    "# file_name = str(input(\"provide file name\"))\n",
    "\n",
    "# driver.get(product_url)\n"
   ]
  },
  {
   "cell_type": "code",
   "execution_count": 22,
   "metadata": {},
   "outputs": [],
   "source": [
    "from lxml import html  \n",
    "import requests\n",
    "\n",
    "amazon_url = 'https://www.amazon.in/Test-Exclusive-743/dp/B07DJHWWLN?ref_=Oct_DLandingS_D_4f7b8ae3_61&smid=A14CZOWI0VEHLG'\n",
    "\n",
    "#user_agent = 'Mozilla/5.0 (Macintosh; Intel Mac OS X 10_12_6) AppleWebKit/537.36 (KHTML, like Gecko) Chrome/62.0.3202.94 Safari/537.36'\n",
    "\n",
    "#headers = {'User-Agent': user_agent}\n",
    "page = requests.get(amazon_url, headers = headers)\n",
    "parser = html.fromstring(page.content)\n",
    "\n",
    "xpath_reviews = '//div[@data-hook=\"review\"]'\n",
    "reviews = parser.xpath(xpath_reviews)\n",
    "\n",
    "\n",
    "xpath_rating  = './/i[@data-hook=\"review-star-rating\"]//text()' \n",
    "xpath_title   = './/a[@data-hook=\"review-title\"]//text()'\n",
    "xpath_author  = './/a[@data-hook=\"review-author\"]//text()'\n",
    "xpath_date    = './/span[@data-hook=\"review-date\"]//text()'\n",
    "xpath_body    = './/span[@data-hook=\"review-body\"]//text()'\n",
    "xpath_helpful = './/span[@data-hook=\"helpful-vote-statement\"]//text()'\n",
    "\n",
    "reviews_df= pd.DataFrame()\n",
    "for review in reviews:\n",
    "    rating  = review.xpath(xpath_rating)\n",
    "    title   = review.xpath(xpath_title)\n",
    "    author  = review.xpath(xpath_author)\n",
    "    date    = review.xpath(xpath_date)\n",
    "    body    = review.xpath(xpath_body)\n",
    "    helpful = review.xpath(xpath_helpful)\n",
    "    \n",
    "    review_dict = {'rating': rating,\n",
    "                   'title': title,\n",
    "                   'author': author,             \n",
    "                   'date': date,\n",
    "                   'body': body,\n",
    "                   'helpful': helpful}\n",
    "    reviews_df = reviews_df.append(review_dict, ignore_index=True)\n",
    "    "
   ]
  },
  {
   "cell_type": "code",
   "execution_count": 23,
   "metadata": {},
   "outputs": [
    {
     "data": {
      "text/html": [
       "<div>\n",
       "<style scoped>\n",
       "    .dataframe tbody tr th:only-of-type {\n",
       "        vertical-align: middle;\n",
       "    }\n",
       "\n",
       "    .dataframe tbody tr th {\n",
       "        vertical-align: top;\n",
       "    }\n",
       "\n",
       "    .dataframe thead th {\n",
       "        text-align: right;\n",
       "    }\n",
       "</style>\n",
       "<table border=\"1\" class=\"dataframe\">\n",
       "  <thead>\n",
       "    <tr style=\"text-align: right;\">\n",
       "      <th></th>\n",
       "      <th>author</th>\n",
       "      <th>body</th>\n",
       "      <th>date</th>\n",
       "      <th>helpful</th>\n",
       "      <th>rating</th>\n",
       "      <th>title</th>\n",
       "    </tr>\n",
       "  </thead>\n",
       "  <tbody>\n",
       "    <tr>\n",
       "      <th>0</th>\n",
       "      <td>[]</td>\n",
       "      <td>[\\n\\n\\n\\n\\n\\n\\n\\n  \\n  \\n    , I simply liked ...</td>\n",
       "      <td>[Reviewed in India on 27 September 2019]</td>\n",
       "      <td>[589 people found this helpful]</td>\n",
       "      <td>[5.0 out of 5 stars]</td>\n",
       "      <td>[\\n\\n\\n\\n\\n\\n\\n\\n  \\n  \\n    , What a lovely p...</td>\n",
       "    </tr>\n",
       "    <tr>\n",
       "      <th>1</th>\n",
       "      <td>[]</td>\n",
       "      <td>[\\n\\n\\n\\n\\n\\n\\n\\n  \\n  \\n    , The device is t...</td>\n",
       "      <td>[Reviewed in India on 29 September 2019]</td>\n",
       "      <td>[210 people found this helpful]</td>\n",
       "      <td>[2.0 out of 5 stars]</td>\n",
       "      <td>[\\n\\n\\n\\n\\n\\n\\n\\n  \\n  \\n    , Don't go for it...</td>\n",
       "    </tr>\n",
       "    <tr>\n",
       "      <th>2</th>\n",
       "      <td>[]</td>\n",
       "      <td>[\\n\\n\\n\\n\\n\\n\\n\\n  \\n  \\n    , Nice looking an...</td>\n",
       "      <td>[Reviewed in India on 30 September 2019]</td>\n",
       "      <td>[104 people found this helpful]</td>\n",
       "      <td>[5.0 out of 5 stars]</td>\n",
       "      <td>[\\n\\n\\n\\n\\n\\n\\n\\n  \\n  \\n    , Assowme phone, ...</td>\n",
       "    </tr>\n",
       "    <tr>\n",
       "      <th>3</th>\n",
       "      <td>[]</td>\n",
       "      <td>[\\n\\n\\n\\n\\n\\n\\n\\n  \\n  \\n    , Vivio U 10 is a...</td>\n",
       "      <td>[Reviewed in India on 30 September 2019]</td>\n",
       "      <td>[224 people found this helpful]</td>\n",
       "      <td>[3.0 out of 5 stars]</td>\n",
       "      <td>[\\n\\n\\n\\n\\n\\n\\n\\n  \\n  \\n    , Descent Phone w...</td>\n",
       "    </tr>\n",
       "    <tr>\n",
       "      <th>4</th>\n",
       "      <td>[]</td>\n",
       "      <td>[\\n\\n\\n\\n\\n\\n\\n\\n  \\n  \\n    ,  --------------...</td>\n",
       "      <td>[Reviewed in India on 30 September 2019]</td>\n",
       "      <td>[13 people found this helpful]</td>\n",
       "      <td>[4.0 out of 5 stars]</td>\n",
       "      <td>[\\n\\n\\n\\n\\n\\n\\n\\n  \\n  \\n    , 4 ⭐ Very good p...</td>\n",
       "    </tr>\n",
       "    <tr>\n",
       "      <th>5</th>\n",
       "      <td>[]</td>\n",
       "      <td>[\\n\\n\\n\\n\\n\\n\\n\\n  \\n  \\n    , Display, It has...</td>\n",
       "      <td>[Reviewed in India on 29 September 2019]</td>\n",
       "      <td>[7 people found this helpful]</td>\n",
       "      <td>[5.0 out of 5 stars]</td>\n",
       "      <td>[\\n\\n\\n\\n\\n\\n\\n\\n  \\n  \\n    , In this price r...</td>\n",
       "    </tr>\n",
       "    <tr>\n",
       "      <th>6</th>\n",
       "      <td>[]</td>\n",
       "      <td>[\\n\\n\\n\\n\\n\\n\\n\\n  \\n  \\n    , I recently purc...</td>\n",
       "      <td>[Reviewed in India on 30 September 2019]</td>\n",
       "      <td>[7 people found this helpful]</td>\n",
       "      <td>[4.0 out of 5 stars]</td>\n",
       "      <td>[\\n\\n\\n\\n\\n\\n\\n\\n  \\n  \\n    , Vivo U10 - A gr...</td>\n",
       "    </tr>\n",
       "  </tbody>\n",
       "</table>\n",
       "</div>"
      ],
      "text/plain": [
       "  author                                               body  \\\n",
       "0     []  [\\n\\n\\n\\n\\n\\n\\n\\n  \\n  \\n    , I simply liked ...   \n",
       "1     []  [\\n\\n\\n\\n\\n\\n\\n\\n  \\n  \\n    , The device is t...   \n",
       "2     []  [\\n\\n\\n\\n\\n\\n\\n\\n  \\n  \\n    , Nice looking an...   \n",
       "3     []  [\\n\\n\\n\\n\\n\\n\\n\\n  \\n  \\n    , Vivio U 10 is a...   \n",
       "4     []  [\\n\\n\\n\\n\\n\\n\\n\\n  \\n  \\n    ,  --------------...   \n",
       "5     []  [\\n\\n\\n\\n\\n\\n\\n\\n  \\n  \\n    , Display, It has...   \n",
       "6     []  [\\n\\n\\n\\n\\n\\n\\n\\n  \\n  \\n    , I recently purc...   \n",
       "\n",
       "                                       date                          helpful  \\\n",
       "0  [Reviewed in India on 27 September 2019]  [589 people found this helpful]   \n",
       "1  [Reviewed in India on 29 September 2019]  [210 people found this helpful]   \n",
       "2  [Reviewed in India on 30 September 2019]  [104 people found this helpful]   \n",
       "3  [Reviewed in India on 30 September 2019]  [224 people found this helpful]   \n",
       "4  [Reviewed in India on 30 September 2019]   [13 people found this helpful]   \n",
       "5  [Reviewed in India on 29 September 2019]    [7 people found this helpful]   \n",
       "6  [Reviewed in India on 30 September 2019]    [7 people found this helpful]   \n",
       "\n",
       "                 rating                                              title  \n",
       "0  [5.0 out of 5 stars]  [\\n\\n\\n\\n\\n\\n\\n\\n  \\n  \\n    , What a lovely p...  \n",
       "1  [2.0 out of 5 stars]  [\\n\\n\\n\\n\\n\\n\\n\\n  \\n  \\n    , Don't go for it...  \n",
       "2  [5.0 out of 5 stars]  [\\n\\n\\n\\n\\n\\n\\n\\n  \\n  \\n    , Assowme phone, ...  \n",
       "3  [3.0 out of 5 stars]  [\\n\\n\\n\\n\\n\\n\\n\\n  \\n  \\n    , Descent Phone w...  \n",
       "4  [4.0 out of 5 stars]  [\\n\\n\\n\\n\\n\\n\\n\\n  \\n  \\n    , 4 ⭐ Very good p...  \n",
       "5  [5.0 out of 5 stars]  [\\n\\n\\n\\n\\n\\n\\n\\n  \\n  \\n    , In this price r...  \n",
       "6  [4.0 out of 5 stars]  [\\n\\n\\n\\n\\n\\n\\n\\n  \\n  \\n    , Vivo U10 - A gr...  "
      ]
     },
     "execution_count": 23,
     "metadata": {},
     "output_type": "execute_result"
    }
   ],
   "source": [
    "reviews_df"
   ]
  },
  {
   "cell_type": "code",
   "execution_count": 24,
   "metadata": {},
   "outputs": [
    {
     "data": {
      "text/plain": [
       "{'rating': ['4.0 out of 5 stars'],\n",
       " 'title': ['\\n\\n\\n\\n\\n\\n\\n\\n  \\n  \\n    ',\n",
       "  'Vivo U10 - A great budget phone',\n",
       "  '\\n  \\n'],\n",
       " 'author': [],\n",
       " 'date': ['Reviewed in India on 30 September 2019'],\n",
       " 'body': ['\\n\\n\\n\\n\\n\\n\\n\\n  \\n  \\n    ',\n",
       "  'I recently purchased Vivo U10 3gb ram 64gb rom version. Available in electric blue and thunder black colors, I had opted for the latter. I got it at a price of Rs.9,990. The phone came with a 6.35 inch touchscreen display that offered a resolution of 720x1544 pixels along with an aspect ratio of 19:59. The clarity was pretty clear and gave the feel of a notepad or kindle as far as reading is concerned. It claimed to be powered by an octa-core Qualcomm snapdragon 655 processor, owing to which the functioning of the phone was pretty smooth, no hang issues (at least till now). The battery was 5,000mAH and supported fast charging. The phone can be used for 10-12 hours easily without charging.',\n",
       "  \"Coming to the camera, the rear packed a 13 mp primary camera, a second 8 mp camera and a third 2 mp camera. Owing to the auto focus setting that the rear camera setup featured, I did not have to worry much about adjusting settings while clicking pictures. The picture quality however was just average. White balance had to be adjusted to brighten up the pictures. The front camera was 8 mp. While the selfie quality in natural light was still fine, it doesn't satisfy much in internal light settings. Although there's a beauty mode for selfies, the pictures were not crystal clear using the feature. The flash pictures were also average. The card tray had two sim card slots and one slot for memory card which could be opened using the pin provided. The dual sim smart phone accepted only nano sim cards.\",\n",
       "  'The phone supported both fingerprint sensor and face unlock. While registering for the finger print, it takes more time than usual, requiring one to punch in 12-15 times to register completely. Connectivity options included bluetooth, wi-fi, gps, micro-usb,fm radio, 3g, 4g. The phone also had ambient light sensor right next to the front camera.',\n",
       "  \"The packaging was decent and came equipped with the phone, a transparent back cover and a charger. The earphone was missing(they don't give you that, so you need to shell out some extra money here ).I also downloaded several games and heavy apps to check the phone's performance. It operated smooth and had no issues what so ever. The phone is a bit heavy but the look and the feel takes over. Overall, the phone is pretty decent within this price range as far as the performance and appeal is concerned but could have been improved in terms of picture quality and weight.  It would also have been better if they gave a headphone with it.\",\n",
       "  '\\n  \\n',\n",
       "  'Read more'],\n",
       " 'helpful': ['7 people found this helpful']}"
      ]
     },
     "execution_count": 24,
     "metadata": {},
     "output_type": "execute_result"
    }
   ],
   "source": [
    "review_dict"
   ]
  },
  {
   "cell_type": "code",
   "execution_count": 25,
   "metadata": {},
   "outputs": [
    {
     "data": {
      "text/plain": [
       "['\\n\\n\\n\\n\\n\\n\\n\\n  \\n  \\n    ',\n",
       " 'I recently purchased Vivo U10 3gb ram 64gb rom version. Available in electric blue and thunder black colors, I had opted for the latter. I got it at a price of Rs.9,990. The phone came with a 6.35 inch touchscreen display that offered a resolution of 720x1544 pixels along with an aspect ratio of 19:59. The clarity was pretty clear and gave the feel of a notepad or kindle as far as reading is concerned. It claimed to be powered by an octa-core Qualcomm snapdragon 655 processor, owing to which the functioning of the phone was pretty smooth, no hang issues (at least till now). The battery was 5,000mAH and supported fast charging. The phone can be used for 10-12 hours easily without charging.',\n",
       " \"Coming to the camera, the rear packed a 13 mp primary camera, a second 8 mp camera and a third 2 mp camera. Owing to the auto focus setting that the rear camera setup featured, I did not have to worry much about adjusting settings while clicking pictures. The picture quality however was just average. White balance had to be adjusted to brighten up the pictures. The front camera was 8 mp. While the selfie quality in natural light was still fine, it doesn't satisfy much in internal light settings. Although there's a beauty mode for selfies, the pictures were not crystal clear using the feature. The flash pictures were also average. The card tray had two sim card slots and one slot for memory card which could be opened using the pin provided. The dual sim smart phone accepted only nano sim cards.\",\n",
       " 'The phone supported both fingerprint sensor and face unlock. While registering for the finger print, it takes more time than usual, requiring one to punch in 12-15 times to register completely. Connectivity options included bluetooth, wi-fi, gps, micro-usb,fm radio, 3g, 4g. The phone also had ambient light sensor right next to the front camera.',\n",
       " \"The packaging was decent and came equipped with the phone, a transparent back cover and a charger. The earphone was missing(they don't give you that, so you need to shell out some extra money here ).I also downloaded several games and heavy apps to check the phone's performance. It operated smooth and had no issues what so ever. The phone is a bit heavy but the look and the feel takes over. Overall, the phone is pretty decent within this price range as far as the performance and appeal is concerned but could have been improved in terms of picture quality and weight.  It would also have been better if they gave a headphone with it.\",\n",
       " '\\n  \\n',\n",
       " 'Read more']"
      ]
     },
     "execution_count": 25,
     "metadata": {},
     "output_type": "execute_result"
    }
   ],
   "source": [
    "review_dict['body'] "
   ]
  },
  {
   "cell_type": "code",
   "execution_count": null,
   "metadata": {},
   "outputs": [],
   "source": []
  },
  {
   "cell_type": "code",
   "execution_count": null,
   "metadata": {},
   "outputs": [],
   "source": []
  }
 ],
 "metadata": {
  "kernelspec": {
   "display_name": "Python 3",
   "language": "python",
   "name": "python3"
  },
  "language_info": {
   "codemirror_mode": {
    "name": "ipython",
    "version": 3
   },
   "file_extension": ".py",
   "mimetype": "text/x-python",
   "name": "python",
   "nbconvert_exporter": "python",
   "pygments_lexer": "ipython3",
   "version": "3.7.3"
  }
 },
 "nbformat": 4,
 "nbformat_minor": 2
}
